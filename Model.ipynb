{
 "cells": [
  {
   "cell_type": "markdown",
   "metadata": {},
   "source": [
    "Importing Frameworks"
   ]
  },
  {
   "cell_type": "code",
   "execution_count": 1,
   "metadata": {},
   "outputs": [],
   "source": [
    "import pandas as pd\n",
    "import numpy as np\n",
    "import matplotlib.pyplot as plt\n",
    "from sklearn.neural_network import MLPClassifier\n",
    "from sklearn.metrics import classification_report\n",
    "from sklearn.metrics import confusion_matrix"
   ]
  },
  {
   "cell_type": "markdown",
   "metadata": {},
   "source": [
    "Training Test Data"
   ]
  },
  {
   "cell_type": "code",
   "execution_count": 2,
   "metadata": {},
   "outputs": [],
   "source": [
    "# Train data contains digit data and the correct labels\n",
    "# Test data contains just the digit data and no labels \n",
    "\n",
    "mnist_train = pd.read_csv(\"datasets/mnist/train.csv\")\n",
    "mnist_test = pd.read_csv(\"datasets/mnist/test.csv\")"
   ]
  },
  {
   "cell_type": "markdown",
   "metadata": {},
   "source": [
    "Visualizing the Image"
   ]
  },
  {
   "cell_type": "code",
   "execution_count": 3,
   "metadata": {},
   "outputs": [
    {
     "data": {
      "text/plain": [
       "Text(0.5, 1.0, 'First digit in test data ')"
      ]
     },
     "execution_count": 3,
     "metadata": {},
     "output_type": "execute_result"
    },
    {
     "data": {
      "image/png": "[encoded data removed]",
      "text/plain": [
       "<Figure size 640x480 with 2 Axes>"
      ]
     },
     "metadata": {},
     "output_type": "display_data"
    }
   ],
   "source": [
    "# Visualize the image represented by the first rows of the train data and the test data\n",
    "\n",
    "train_data_digit1 = np.asarray(mnist_train.iloc[0:1,1:]).reshape(28,28)\n",
    "test_data_digit1 = np.asarray(mnist_test.iloc[0:1,]).reshape(28,28)\n",
    "plt.subplot(1,2,1)\n",
    "plt.imshow(train_data_digit1,cmap = plt.cm.gray_r)\n",
    "plt.title(\"First digit in train data\")\n",
    "plt.subplot(1,2,2)\n",
    "plt.imshow(test_data_digit1,cmap = plt.cm.gray_r)\n",
    "plt.title(\"First digit in test data \")"
   ]
  },
  {
   "cell_type": "markdown",
   "metadata": {},
   "source": [
    "Feature Engineering"
   ]
  },
  {
   "cell_type": "code",
   "execution_count": 4,
   "metadata": {},
   "outputs": [],
   "source": [
    "# Let us now assign the label column value to a new variable Y_train and the remaining column values to X_train\n",
    "\n",
    "X_train = mnist_train.iloc[:,1:]\n",
    "Y_train = mnist_train.iloc[:,0:1]"
   ]
  },
  {
   "cell_type": "markdown",
   "metadata": {},
   "source": [
    "Building an Artificial Neural Network"
   ]
  },
  {
   "cell_type": "code",
   "execution_count": 5,
   "metadata": {},
   "outputs": [
    {
     "name": "stdout",
     "output_type": "stream",
     "text": [
      "[2]\n"
     ]
    }
   ],
   "source": [
    "nn_model = MLPClassifier(hidden_layer_sizes=(50))\n",
    "nn_model.fit(X_train,mnist_train.iloc[:,0])\n",
    "print(nn_model.predict(mnist_test.iloc[0:1,]))"
   ]
  },
  {
   "cell_type": "markdown",
   "metadata": {},
   "source": [
    "Evaluate model performance"
   ]
  },
  {
   "cell_type": "code",
   "execution_count": 6,
   "metadata": {},
   "outputs": [
    {
     "name": "stdout",
     "output_type": "stream",
     "text": [
      "Accuracy of model: 0.9864285714285714\n"
     ]
    }
   ],
   "source": [
    "print(\"Accuracy of model:\", nn_model.score(X_train,Y_train))"
   ]
  },
  {
   "cell_type": "code",
   "execution_count": 7,
   "metadata": {},
   "outputs": [
    {
     "name": "stdout",
     "output_type": "stream",
     "text": [
      "              precision    recall  f1-score   support\n",
      "\n",
      "           0       0.95      1.00      0.98      4132\n",
      "           1       1.00      1.00      1.00      4684\n",
      "           2       0.99      0.99      0.99      4177\n",
      "           3       0.99      0.98      0.98      4351\n",
      "           4       1.00      0.99      0.99      4072\n",
      "           5       0.99      0.98      0.99      3795\n",
      "           6       1.00      0.99      0.99      4137\n",
      "           7       0.99      0.99      0.99      4401\n",
      "           8       0.99      0.96      0.98      4063\n",
      "           9       0.97      0.99      0.98      4188\n",
      "\n",
      "    accuracy                           0.99     42000\n",
      "   macro avg       0.99      0.99      0.99     42000\n",
      "weighted avg       0.99      0.99      0.99     42000\n",
      "\n"
     ]
    }
   ],
   "source": [
    "predicted_digit = nn_model.predict(X_train)\n",
    "pd.DataFrame(confusion_matrix(Y_train,predicted_digit), index=range(0,10),columns=range(0,10))\n",
    "from sklearn.metrics import classification_report\n",
    "# report based on tain data\n",
    "print(classification_report(Y_train,predicted_digit))"
   ]
  }
 ],
 "metadata": {
  "kernelspec": {
   "display_name": "Python 3",
   "language": "python",
   "name": "python3"
  },
  "language_info": {
   "codemirror_mode": {
    "name": "ipython",
    "version": 3
   },
   "file_extension": ".py",
   "mimetype": "text/x-python",
   "name": "python",
   "nbconvert_exporter": "python",
   "pygments_lexer": "ipython3",
   "version": "3.10.7"
  }
 },
 "nbformat": 4,
 "nbformat_minor": 2
}
